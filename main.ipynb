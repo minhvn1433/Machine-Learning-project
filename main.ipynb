{
 "cells": [
  {
   "attachments": {},
   "cell_type": "markdown",
   "metadata": {},
   "source": [
    "### 1. Packages \n",
    "\n",
    "First, let's run the cell below to import all the packages that you will need.\n",
    "- [numpy](https://numpy.org/) is the fundamental package for scientific computing with Python.\n",
    "- [matplotlib](http://matplotlib.org) is a popular library to plot graphs in Python.\n",
    "- [tensorflow](https://www.tensorflow.org/) a popular platform for machine learning."
   ]
  },
  {
   "cell_type": "code",
   "execution_count": 67,
   "metadata": {},
   "outputs": [],
   "source": [
    "import os\n",
    "import matplotlib.pyplot as plt\n",
    "import numpy as np\n",
    "import tensorflow as tf\n",
    "import tensorflow_datasets as tfds\n",
    "import parameter"
   ]
  },
  {
   "attachments": {},
   "cell_type": "markdown",
   "metadata": {},
   "source": [
    "How to run:\n",
    "- Change parameter"
   ]
  },
  {
   "attachments": {},
   "cell_type": "markdown",
   "metadata": {},
   "source": [
    "### 2. Dataset"
   ]
  },
  {
   "cell_type": "code",
   "execution_count": 74,
   "metadata": {},
   "outputs": [],
   "source": [
    "import tensorflow_datasets as tfds\n",
    "\n",
    "(ds_train, ds_validation), ds_info = tfds.load(\n",
    "    parameter.DATASET,\n",
    "    split=['train', 'validation'],\n",
    "    shuffle_files=True,\n",
    "    as_supervised=True,\n",
    "    with_info=True\n",
    ")\n"
   ]
  },
  {
   "cell_type": "code",
   "execution_count": 79,
   "metadata": {},
   "outputs": [
    {
     "ename": "ValueError",
     "evalue": "Image dimension should be 3. tfds.show_examples does not support batched examples or video.",
     "output_type": "error",
     "traceback": [
      "\u001b[1;31m---------------------------------------------------------------------------\u001b[0m",
      "\u001b[1;31mValueError\u001b[0m                                Traceback (most recent call last)",
      "Cell \u001b[1;32mIn[79], line 1\u001b[0m\n\u001b[1;32m----> 1\u001b[0m fig \u001b[39m=\u001b[39m tfds\u001b[39m.\u001b[39;49mshow_examples(ds_train, ds_info)\n",
      "File \u001b[1;32mc:\\Users\\HH\\AppData\\Local\\Programs\\Python\\Python310\\lib\\site-packages\\tensorflow_datasets\\core\\visualization\\show_examples.py:83\u001b[0m, in \u001b[0;36mshow_examples\u001b[1;34m(ds, ds_info, **options_kwargs)\u001b[0m\n\u001b[0;32m     81\u001b[0m \u001b[39mfor\u001b[39;00m visualizer \u001b[39min\u001b[39;00m _ALL_VISUALIZERS:\n\u001b[0;32m     82\u001b[0m   \u001b[39mif\u001b[39;00m visualizer\u001b[39m.\u001b[39mmatch(ds_info):\n\u001b[1;32m---> 83\u001b[0m     \u001b[39mreturn\u001b[39;00m visualizer\u001b[39m.\u001b[39mshow(ds, ds_info, \u001b[39m*\u001b[39m\u001b[39m*\u001b[39moptions_kwargs)\n\u001b[0;32m     85\u001b[0m \u001b[39mraise\u001b[39;00m \u001b[39mValueError\u001b[39;00m(\n\u001b[0;32m     86\u001b[0m     \u001b[39m'\u001b[39m\u001b[39mVisualisation not supported for dataset `\u001b[39m\u001b[39m{}\u001b[39;00m\u001b[39m`\u001b[39m\u001b[39m'\u001b[39m\u001b[39m.\u001b[39mformat(ds_info\u001b[39m.\u001b[39mname)\n\u001b[0;32m     87\u001b[0m )\n",
      "File \u001b[1;32mc:\\Users\\HH\\AppData\\Local\\Programs\\Python\\Python310\\lib\\site-packages\\tensorflow_datasets\\core\\visualization\\image_visualizer.py:167\u001b[0m, in \u001b[0;36mImageGridVisualizer.show\u001b[1;34m(self, ds, ds_info, rows, cols, plot_scale, image_key, label_key)\u001b[0m\n\u001b[0;32m    164\u001b[0m     plt\u001b[39m.\u001b[39mxlabel(\u001b[39m'\u001b[39m\u001b[39m{}\u001b[39;00m\u001b[39m (\u001b[39m\u001b[39m{}\u001b[39;00m\u001b[39m)\u001b[39m\u001b[39m'\u001b[39m\u001b[39m.\u001b[39mformat(label_str, label))\n\u001b[0;32m    166\u001b[0m \u001b[39m# Returns the grid.\u001b[39;00m\n\u001b[1;32m--> 167\u001b[0m fig \u001b[39m=\u001b[39m _make_grid(make_cell_fn, ds, rows, cols, plot_scale)\n\u001b[0;32m    168\u001b[0m \u001b[39mreturn\u001b[39;00m fig\n",
      "File \u001b[1;32mc:\\Users\\HH\\AppData\\Local\\Programs\\Python\\Python310\\lib\\site-packages\\tensorflow_datasets\\core\\visualization\\image_visualizer.py:59\u001b[0m, in \u001b[0;36m_make_grid\u001b[1;34m(plot_single_ex_fn, ds, rows, cols, plot_scale)\u001b[0m\n\u001b[0;32m     57\u001b[0m \u001b[39mfor\u001b[39;00m i, ex \u001b[39min\u001b[39;00m \u001b[39menumerate\u001b[39m(examples):\n\u001b[0;32m     58\u001b[0m   ax \u001b[39m=\u001b[39m fig\u001b[39m.\u001b[39madd_subplot(rows, cols, i \u001b[39m+\u001b[39m \u001b[39m1\u001b[39m)\n\u001b[1;32m---> 59\u001b[0m   plot_single_ex_fn(ax, ex)\n\u001b[0;32m     61\u001b[0m plt\u001b[39m.\u001b[39mshow()\n\u001b[0;32m     62\u001b[0m \u001b[39mreturn\u001b[39;00m fig\n",
      "File \u001b[1;32mc:\\Users\\HH\\AppData\\Local\\Programs\\Python\\Python310\\lib\\site-packages\\tensorflow_datasets\\core\\visualization\\image_visualizer.py:160\u001b[0m, in \u001b[0;36mImageGridVisualizer.show.<locals>.make_cell_fn\u001b[1;34m(ax, ex)\u001b[0m\n\u001b[0;32m    151\u001b[0m \u001b[39mif\u001b[39;00m \u001b[39mnot\u001b[39;00m \u001b[39misinstance\u001b[39m(ex, \u001b[39mdict\u001b[39m):\n\u001b[0;32m    152\u001b[0m   \u001b[39mraise\u001b[39;00m \u001b[39mValueError\u001b[39;00m(\n\u001b[0;32m    153\u001b[0m       \u001b[39m'\u001b[39m\u001b[39m{}\u001b[39;00m\u001b[39m requires examples as `dict`, with the same \u001b[39m\u001b[39m'\u001b[39m\n\u001b[0;32m    154\u001b[0m       \u001b[39m'\u001b[39m\u001b[39mstructure as `ds_info.features`. It is currently not compatible \u001b[39m\u001b[39m'\u001b[39m\n\u001b[1;32m   (...)\u001b[0m\n\u001b[0;32m    157\u001b[0m       )\n\u001b[0;32m    158\u001b[0m   )\n\u001b[1;32m--> 160\u001b[0m _add_image(ax, ex[image_key])\n\u001b[0;32m    161\u001b[0m \u001b[39mif\u001b[39;00m label_key:\n\u001b[0;32m    162\u001b[0m   label \u001b[39m=\u001b[39m ex[label_key]\n",
      "File \u001b[1;32mc:\\Users\\HH\\AppData\\Local\\Programs\\Python\\Python310\\lib\\site-packages\\tensorflow_datasets\\core\\visualization\\image_visualizer.py:70\u001b[0m, in \u001b[0;36m_add_image\u001b[1;34m(ax, image)\u001b[0m\n\u001b[0;32m     67\u001b[0m plt \u001b[39m=\u001b[39m lazy_imports_lib\u001b[39m.\u001b[39mlazy_imports\u001b[39m.\u001b[39mmatplotlib\u001b[39m.\u001b[39mpyplot\n\u001b[0;32m     69\u001b[0m \u001b[39mif\u001b[39;00m \u001b[39mlen\u001b[39m(image\u001b[39m.\u001b[39mshape) \u001b[39m!=\u001b[39m \u001b[39m3\u001b[39m:\n\u001b[1;32m---> 70\u001b[0m   \u001b[39mraise\u001b[39;00m \u001b[39mValueError\u001b[39;00m(\n\u001b[0;32m     71\u001b[0m       \u001b[39m'\u001b[39m\u001b[39mImage dimension should be 3. tfds.show_examples does not support \u001b[39m\u001b[39m'\u001b[39m\n\u001b[0;32m     72\u001b[0m       \u001b[39m'\u001b[39m\u001b[39mbatched examples or video.\u001b[39m\u001b[39m'\u001b[39m\n\u001b[0;32m     73\u001b[0m   )\n\u001b[0;32m     74\u001b[0m _, _, c \u001b[39m=\u001b[39m image\u001b[39m.\u001b[39mshape\n\u001b[0;32m     75\u001b[0m \u001b[39mif\u001b[39;00m c \u001b[39m==\u001b[39m \u001b[39m1\u001b[39m:\n",
      "\u001b[1;31mValueError\u001b[0m: Image dimension should be 3. tfds.show_examples does not support batched examples or video."
     ]
    },
    {
     "data": {
      "image/png": "[encoded data removed]",
      "text/plain": [
       "<Figure size 900x900 with 1 Axes>"
      ]
     },
     "metadata": {},
     "output_type": "display_data"
    }
   ],
   "source": [
    "fig = tfds.show_examples(ds_train, ds_info)"
   ]
  },
  {
   "cell_type": "code",
   "execution_count": 77,
   "metadata": {},
   "outputs": [],
   "source": [
    "normalize = tf.keras.Sequential([\n",
    "    tf.keras.layers.Resizing(parameter.IMAGE_SIZE, parameter.IMAGE_SIZE),\n",
    "    tf.keras.layers.Rescaling(scale=1./255)\n",
    "])\n",
    "\n",
    "augmentation = tf.keras.Sequential([\n",
    "    tf.keras.layers.RandomFlip(),\n",
    "    tf.keras.layers.RandomRotation((-0.05,0.05)),\n",
    "    tf.keras.layers.RandomTranslation((-0.1,0.1),(-0.1,0.1)),\n",
    "    tf.keras.layers.RandomBrightness((-0.1, 0.1)),\n",
    "    tf.keras.layers.RandomContrast((0.3, 0.3))\n",
    "])\n",
    "\n",
    "def prep(ds, shuffle=False, augment=False):\n",
    "    ds = ds.map(lambda x, y: (normalize(x), y), num_parallel_calls=tf.data.experimental.AUTOTUNE)\n",
    "\n",
    "    if shuffle:\n",
    "        ds.shuffle(1000)\n",
    "\n",
    "    ds = ds.batch(parameter.BATCH_SIZE)\n",
    "\n",
    "    if augment:\n",
    "        ds = ds.map(lambda x, y: (augmentation(x, training=True), y), num_parallel_calls=tf.data.experimental.AUTOTUNE)\n",
    "    \n",
    "    return ds.prefetch(tf.data.experimental.AUTOTUNE)"
   ]
  },
  {
   "cell_type": "code",
   "execution_count": 78,
   "metadata": {},
   "outputs": [],
   "source": [
    "ds_train = prep(ds_train, shuffle=True, augment=True)\n",
    "ds_validation = prep(ds_validation)"
   ]
  },
  {
   "attachments": {},
   "cell_type": "markdown",
   "metadata": {},
   "source": [
    "### 3. Training and Hyperparameter tuning"
   ]
  },
  {
   "cell_type": "code",
   "execution_count": null,
   "metadata": {},
   "outputs": [],
   "source": [
    "import ssl\n",
    "ssl._create_default_https_context = ssl._create_unverified_context\n",
    "\n",
    "import tensorflow_datasets as tfds\n",
    "\n",
    "import Models.CNN_Model_2\n",
    "\n",
    "model = Models.CNN_Model_2.Model(parameter.numclasses)\n"
   ]
  },
  {
   "cell_type": "code",
   "execution_count": 18,
   "metadata": {},
   "outputs": [
    {
     "name": "stdout",
     "output_type": "stream",
     "text": [
      "148/148 - 1955s - loss: 1.5703 - accuracy: 0.4242 - val_loss: 0.9695 - val_accuracy: 0.7424 - 1955s/epoch - 13s/step\n"
     ]
    }
   ],
   "source": [
    "history = model.fit(\n",
    "    ds_train,\n",
    "    validation_data=ds_validation,\n",
    "    epochs=20,\n",
    "    verbose=2,\n",
    ")"
   ]
  },
  {
   "attachments": {},
   "cell_type": "markdown",
   "metadata": {},
   "source": [
    "### 4. Test"
   ]
  },
  {
   "cell_type": "code",
   "execution_count": 19,
   "metadata": {},
   "outputs": [
    {
     "data": {
      "image/png": "[encoded data removed]",
      "text/plain": [
       "<Figure size 640x480 with 1 Axes>"
      ]
     },
     "metadata": {},
     "output_type": "display_data"
    }
   ],
   "source": [
    "plt.plot(history.history['accuracy'], label=\"train accuracy\")\n",
    "plt.plot(history.history['val_accuracy'], label=\"validation accuracy\")\n",
    "plt.title('Training Accuracy')\n",
    "plt.xlabel('Epoch')\n",
    "plt.ylabel('Loss')\n",
    "plt.ylim(0,1)\n",
    "plt.legend()\n",
    "plt.savefig(fname=f'{model.model.name}_{parameter.CONV_DO_RATE}-{parameter.LINEAR_DO_RATE}-{parameter.LEARNING_RATE}.png')\n",
    "plt.show()\n"
   ]
  },
  {
   "cell_type": "code",
   "execution_count": 29,
   "metadata": {},
   "outputs": [],
   "source": [
    "with open(f\"result {parameter.DATASET}.txt\", 'a') as f:\n",
    "    f.write(f'{model.model.name}_{parameter.CONV_DO_RATE}-{parameter.LINEAR_DO_RATE}-{parameter.LEARNING_RATE}')\n",
    "    f.write(str(history.history))\n",
    "    f.write('\\n')"
   ]
  },
  {
   "attachments": {},
   "cell_type": "markdown",
   "metadata": {},
   "source": [
    "### 5. Evaluate models"
   ]
  },
  {
   "cell_type": "code",
   "execution_count": null,
   "metadata": {},
   "outputs": [],
   "source": [
    "model.evaluate(ds_validation)"
   ]
  }
 ],
 "metadata": {
  "kernelspec": {
   "display_name": "ML",
   "language": "python",
   "name": "python3"
  },
  "language_info": {
   "codemirror_mode": {
    "name": "ipython",
    "version": 3
   },
   "file_extension": ".py",
   "mimetype": "text/x-python",
   "name": "python",
   "nbconvert_exporter": "python",
   "pygments_lexer": "ipython3",
   "version": "3.10.2"
  },
  "orig_nbformat": 4
 },
 "nbformat": 4,
 "nbformat_minor": 2
}
